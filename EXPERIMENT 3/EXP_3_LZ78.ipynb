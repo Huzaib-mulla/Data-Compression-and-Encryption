{
  "nbformat": 4,
  "nbformat_minor": 0,
  "metadata": {
    "colab": {
      "name": "DCE EXP 3 LZ78.ipynb",
      "provenance": [],
      "collapsed_sections": [],
      "authorship_tag": "ABX9TyNfNQVM9Uy/6B90cjMTHWIl"
    },
    "kernelspec": {
      "name": "python3",
      "display_name": "Python 3"
    }
  },
  "cells": [
    {
      "cell_type": "markdown",
      "metadata": {
        "id": "JFvIW2vXegsR",
        "colab_type": "text"
      },
      "source": [
        "## **LZ78**"
      ]
    },
    {
      "cell_type": "code",
      "metadata": {
        "id": "W3M98C9ZKq8V",
        "colab_type": "code",
        "colab": {}
      },
      "source": [
        "def encodeLZ(FileIn, FileOut):\n",
        "    input_file = open(FileIn, 'r')\n",
        "    encoded_file = open(FileOut, 'w')\n",
        "    text_from_file = input_file.read()\n",
        "    dict_of_codes = {text_from_file[0]: '1'}\n",
        "    encoded_file.write('0' + text_from_file[0])\n",
        "    text_from_file = text_from_file[1:]\n",
        "    combination = ''\n",
        "    code = 2\n",
        "    for char in text_from_file:\n",
        "        combination += char\n",
        "        if combination not in dict_of_codes:\n",
        "            dict_of_codes[combination] = str(code)\n",
        "            if len(combination) == 1:\n",
        "                encoded_file.write('0' + combination)\n",
        "            else:\n",
        "                encoded_file.write(dict_of_codes[combination[0:-1]] + combination[-1])\n",
        "            code += 1\n",
        "            combination = ''\n",
        "    input_file.close()\n",
        "    encoded_file.close()\n",
        "    return True"
      ],
      "execution_count": null,
      "outputs": []
    },
    {
      "cell_type": "code",
      "metadata": {
        "id": "dUJCiWxUdmKe",
        "colab_type": "code",
        "colab": {}
      },
      "source": [
        "def decodeLZ(FileIn, FileOut):\n",
        "    coded_file = open(FileIn, 'r')\n",
        "    decoded_file = open(FileOut, 'w')\n",
        "    text_from_file = coded_file.read()\n",
        "    dict_of_codes = {'0': '', '1': text_from_file[1]}\n",
        "    decoded_file.write(dict_of_codes['1'])\n",
        "    text_from_file = text_from_file[2:]\n",
        "    combination = ''\n",
        "    code = 2\n",
        "    for char in text_from_file:\n",
        "        if char in '1234567890':\n",
        "            combination += char\n",
        "        else:\n",
        "            dict_of_codes[str(code)] = dict_of_codes[combination] + char\n",
        "            decoded_file.write(dict_of_codes[combination] + char)\n",
        "            combination = ''\n",
        "            code += 1\n",
        "    coded_file.close()\n",
        "    decoded_file.close()"
      ],
      "execution_count": null,
      "outputs": []
    },
    {
      "cell_type": "code",
      "metadata": {
        "id": "BnSeehN1dwKw",
        "colab_type": "code",
        "colab": {
          "base_uri": "https://localhost:8080/",
          "height": 34
        },
        "outputId": "139a8ee5-de58-4072-8c83-ce3d1466b454"
      },
      "source": [
        "encodeLZ('file1.txt','encoded.txt')"
      ],
      "execution_count": null,
      "outputs": [
        {
          "output_type": "execute_result",
          "data": {
            "text/plain": [
              "True"
            ]
          },
          "metadata": {
            "tags": []
          },
          "execution_count": 7
        }
      ]
    },
    {
      "cell_type": "code",
      "metadata": {
        "id": "BVSING9FBSs7",
        "colab_type": "code",
        "colab": {}
      },
      "source": [
        "decodeLZ('encoded.txt','decoded.txt')"
      ],
      "execution_count": null,
      "outputs": []
    }
  ]
}
