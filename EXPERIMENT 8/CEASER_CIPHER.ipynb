{
  "nbformat": 4,
  "nbformat_minor": 0,
  "metadata": {
    "colab": {
      "name": "CEASER CIPHER.ipynb",
      "provenance": [],
      "collapsed_sections": [],
      "authorship_tag": "ABX9TyMAZOhjaEykVigJEUXkAi+8",
      "include_colab_link": true
    },
    "kernelspec": {
      "name": "python3",
      "display_name": "Python 3"
    }
  },
  "cells": [
    {
      "cell_type": "markdown",
      "metadata": {
        "id": "view-in-github",
        "colab_type": "text"
      },
      "source": [
        "<a href=\"https://colab.research.google.com/github/Huzaib-mulla/Data-Compression-and-Encryption/blob/master/CEASER_CIPHER.ipynb\" target=\"_parent\"><img src=\"https://colab.research.google.com/assets/colab-badge.svg\" alt=\"Open In Colab\"/></a>"
      ]
    },
    {
      "cell_type": "markdown",
      "metadata": {
        "id": "ph53ol2P2bxh"
      },
      "source": [
        "## **Caesar Cipher**"
      ]
    },
    {
      "cell_type": "code",
      "metadata": {
        "id": "sFt-wmC4oSHd",
        "outputId": "7fda4ba1-d237-4ea6-eefb-9da011896606",
        "colab": {
          "base_uri": "https://localhost:8080/",
          "height": 68
        }
      },
      "source": [
        "def encrypt(text,s):\n",
        "  result = \"\"\n",
        "\n",
        "  # transverse the plain text\n",
        "  for i in range(len(text)):\n",
        "    char = text[i]\n",
        "\n",
        "    # Encrypt uppercase characters in plain text\n",
        "    if (char.isupper()):\n",
        "      result += chr((ord(char) + s-65) % 26 + 65)\n",
        "\n",
        "    # Encrypt lowercase characters in plain text\n",
        "    else:\n",
        "      result += chr((ord(char) + s - 97) % 26 + 97)\n",
        "  return result\n",
        "\n",
        "  \n",
        "#check the above function\n",
        "text = \"CEASER CIPHER DEMO\"\n",
        "s = 4\n",
        "\n",
        "print (\"Plain Text : \" + text)\n",
        "print (\"Shift pattern : \" + str(s))\n",
        "print (\"Cipher: \" + encrypt(text,s))\n"
      ],
      "execution_count": 1,
      "outputs": [
        {
          "output_type": "stream",
          "text": [
            "Plain Text : CEASER CIPHER DEMO\n",
            "Shift pattern : 4\n",
            "Cipher: GIEWIVrGMTLIVrHIQS\n"
          ],
          "name": "stdout"
        }
      ]
    },
    {
      "cell_type": "markdown",
      "metadata": {
        "id": "lXzEKw331tKE"
      },
      "source": [
        "## **Hacking of Caesar Cipher Algorithm**"
      ]
    },
    {
      "cell_type": "code",
      "metadata": {
        "id": "-a1ePJR3twJB",
        "outputId": "00a98faa-c938-40b4-b9ae-52306c6d8e7a",
        "colab": {
          "base_uri": "https://localhost:8080/",
          "height": 459
        }
      },
      "source": [
        "message = 'GIEWIVrGMTLIVrHIQS' #encrypted message\n",
        "LETTERS = 'ABCDEFGHIJKLMNOPQRSTUVWXYZ'\n",
        "\n",
        "for key in range(len(LETTERS)):\n",
        "   translated = ''\n",
        "   for symbol in message:\n",
        "      if symbol in LETTERS:\n",
        "         num = LETTERS.find(symbol)\n",
        "         num = num - key\n",
        "         if num < 0:\n",
        "            num = num + len(LETTERS)\n",
        "         translated = translated + LETTERS[num]\n",
        "      else:\n",
        "         translated = translated + symbol\n",
        "   print('Hacking key #%s: %s' % (key, translated))\n"
      ],
      "execution_count": 2,
      "outputs": [
        {
          "output_type": "stream",
          "text": [
            "Hacking key #0: GIEWIVrGMTLIVrHIQS\n",
            "Hacking key #1: FHDVHUrFLSKHUrGHPR\n",
            "Hacking key #2: EGCUGTrEKRJGTrFGOQ\n",
            "Hacking key #3: DFBTFSrDJQIFSrEFNP\n",
            "Hacking key #4: CEASERrCIPHERrDEMO\n",
            "Hacking key #5: BDZRDQrBHOGDQrCDLN\n",
            "Hacking key #6: ACYQCPrAGNFCPrBCKM\n",
            "Hacking key #7: ZBXPBOrZFMEBOrABJL\n",
            "Hacking key #8: YAWOANrYELDANrZAIK\n",
            "Hacking key #9: XZVNZMrXDKCZMrYZHJ\n",
            "Hacking key #10: WYUMYLrWCJBYLrXYGI\n",
            "Hacking key #11: VXTLXKrVBIAXKrWXFH\n",
            "Hacking key #12: UWSKWJrUAHZWJrVWEG\n",
            "Hacking key #13: TVRJVIrTZGYVIrUVDF\n",
            "Hacking key #14: SUQIUHrSYFXUHrTUCE\n",
            "Hacking key #15: RTPHTGrRXEWTGrSTBD\n",
            "Hacking key #16: QSOGSFrQWDVSFrRSAC\n",
            "Hacking key #17: PRNFRErPVCURErQRZB\n",
            "Hacking key #18: OQMEQDrOUBTQDrPQYA\n",
            "Hacking key #19: NPLDPCrNTASPCrOPXZ\n",
            "Hacking key #20: MOKCOBrMSZROBrNOWY\n",
            "Hacking key #21: LNJBNArLRYQNArMNVX\n",
            "Hacking key #22: KMIAMZrKQXPMZrLMUW\n",
            "Hacking key #23: JLHZLYrJPWOLYrKLTV\n",
            "Hacking key #24: IKGYKXrIOVNKXrJKSU\n",
            "Hacking key #25: HJFXJWrHNUMJWrIJRT\n"
          ],
          "name": "stdout"
        }
      ]
    }
  ]
}
