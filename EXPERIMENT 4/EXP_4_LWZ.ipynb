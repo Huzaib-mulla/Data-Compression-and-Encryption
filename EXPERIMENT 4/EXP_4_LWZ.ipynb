{
  "nbformat": 4,
  "nbformat_minor": 0,
  "metadata": {
    "colab": {
      "name": "DCE EXP 4 -LWZ.ipynb",
      "provenance": [],
      "collapsed_sections": [],
      "authorship_tag": "ABX9TyMDG4p9Ai8WxF94epvcSVSG"
    },
    "kernelspec": {
      "name": "python3",
      "display_name": "Python 3"
    }
  },
  "cells": [
    {
      "cell_type": "code",
      "metadata": {
        "id": "mSczKDR8CYnH",
        "colab_type": "code",
        "colab": {}
      },
      "source": [
        "def compress(uncompressed):\n",
        "    \"\"\"Compress a string to a list of output symbols.\"\"\"\n",
        " \n",
        "    # Build the dictionary.\n",
        "    dict_size = 256\n",
        "    dictionary = dict((chr(i), i) for i in range(dict_size))\n",
        "    # in Python 3: dictionary = {chr(i): i for i in range(dict_size)}\n",
        " \n",
        "    w = \"\"\n",
        "    result = []\n",
        "    for c in uncompressed:\n",
        "        wc = w + c\n",
        "        if wc in dictionary:\n",
        "            w = wc\n",
        "        else:\n",
        "            result.append(dictionary[w])\n",
        "            # Add wc to the dictionary.\n",
        "            dictionary[wc] = dict_size\n",
        "            dict_size += 1\n",
        "            w = c\n",
        " \n",
        "    # Output the code for w.\n",
        "    if w:\n",
        "        result.append(dictionary[w])\n",
        "    return result"
      ],
      "execution_count": 11,
      "outputs": []
    },
    {
      "cell_type": "code",
      "metadata": {
        "id": "qACkVbn8FF9k",
        "colab_type": "code",
        "colab": {}
      },
      "source": [
        "def decompress(compressed):\n",
        "    \"\"\"Decompress a list of output ks to a string.\"\"\"\n",
        "    from io import StringIO\n",
        " \n",
        "    # Build the dictionary.\n",
        "    dict_size = 256\n",
        "    dictionary = dict((i, chr(i)) for i in range(dict_size))\n",
        "    # in Python 3: dictionary = {i: chr(i) for i in range(dict_size)}\n",
        " \n",
        "    # use StringIO, otherwise this becomes O(N^2)\n",
        "    # due to string concatenation in a loop\n",
        "    result = StringIO()\n",
        "    w = chr(compressed.pop(0))\n",
        "    result.write(w)\n",
        "    for k in compressed:\n",
        "        if k in dictionary:\n",
        "            entry = dictionary[k]\n",
        "        elif k == dict_size:\n",
        "            entry = w + w[0]\n",
        "        else:\n",
        "            raise ValueError('Bad compressed k: %s' % k)\n",
        "        result.write(entry)\n",
        " \n",
        "        # Add w+entry[0] to the dictionary.\n",
        "        dictionary[dict_size] = w + entry[0]\n",
        "        dict_size += 1\n",
        " \n",
        "        w = entry\n",
        "    return result.getvalue()\n"
      ],
      "execution_count": 12,
      "outputs": []
    },
    {
      "cell_type": "code",
      "metadata": {
        "id": "zSTy15kiDxgB",
        "colab_type": "code",
        "colab": {
          "base_uri": "https://localhost:8080/",
          "height": 35
        },
        "outputId": "bb852928-9f13-48df-8abb-5b816c8a675b"
      },
      "source": [
        "compressed = compress('AABABBAAACBBBADDDBB')\n",
        "print(compressed)"
      ],
      "execution_count": 13,
      "outputs": [
        {
          "output_type": "stream",
          "text": [
            "[65, 65, 66, 257, 258, 256, 67, 66, 263, 65, 68, 266, 263]\n"
          ],
          "name": "stdout"
        }
      ]
    },
    {
      "cell_type": "code",
      "metadata": {
        "id": "OXIKUj8OFlNg",
        "colab_type": "code",
        "colab": {
          "base_uri": "https://localhost:8080/",
          "height": 35
        },
        "outputId": "e4872575-e441-40f9-9c10-9df4e90102ed"
      },
      "source": [
        "decompressed = decompress(compressed)\n",
        "print(decompressed)"
      ],
      "execution_count": 14,
      "outputs": [
        {
          "output_type": "stream",
          "text": [
            "AABABBAAACBBBADDDBB\n"
          ],
          "name": "stdout"
        }
      ]
    },
    {
      "cell_type": "code",
      "metadata": {
        "id": "2qIJj9jSE4y9",
        "colab_type": "code",
        "colab": {
          "base_uri": "https://localhost:8080/",
          "height": 35
        },
        "outputId": "1627f927-0b6d-4736-b5af-f6cfde26d04d"
      },
      "source": [
        "compressed = compress('MALAYALAM')\n",
        "print(compressed)"
      ],
      "execution_count": 15,
      "outputs": [
        {
          "output_type": "stream",
          "text": [
            "[77, 65, 76, 65, 89, 257, 65, 77]\n"
          ],
          "name": "stdout"
        }
      ]
    },
    {
      "cell_type": "code",
      "metadata": {
        "id": "zGHZuGQzooRL",
        "colab_type": "code",
        "colab": {
          "base_uri": "https://localhost:8080/",
          "height": 35
        },
        "outputId": "8d24840e-3222-40e3-c136-c23b06f06d73"
      },
      "source": [
        "decompressed = decompress(compressed)\n",
        "print(decompressed)"
      ],
      "execution_count": 16,
      "outputs": [
        {
          "output_type": "stream",
          "text": [
            "MALAYALAM\n"
          ],
          "name": "stdout"
        }
      ]
    },
    {
      "cell_type": "code",
      "metadata": {
        "id": "6LHTAUmsGVEq",
        "colab_type": "code",
        "colab": {
          "base_uri": "https://localhost:8080/",
          "height": 35
        },
        "outputId": "37d38334-d080-4cbf-a705-b328d3770d0d"
      },
      "source": [
        "compressed = compress('ENTREPRENER')\n",
        "print(compressed)"
      ],
      "execution_count": 17,
      "outputs": [
        {
          "output_type": "stream",
          "text": [
            "[69, 78, 84, 82, 69, 80, 259, 78, 69, 82]\n"
          ],
          "name": "stdout"
        }
      ]
    },
    {
      "cell_type": "code",
      "metadata": {
        "id": "p9_uwcRGuPkO",
        "colab_type": "code",
        "colab": {
          "base_uri": "https://localhost:8080/",
          "height": 35
        },
        "outputId": "e87a462c-bff9-441b-ad8e-f09651d03a1c"
      },
      "source": [
        "decompressed = decompress(compressed)\n",
        "print(decompressed)"
      ],
      "execution_count": 18,
      "outputs": [
        {
          "output_type": "stream",
          "text": [
            "ENTREPRENER\n"
          ],
          "name": "stdout"
        }
      ]
    }
  ]
}
